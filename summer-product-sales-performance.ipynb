{
 "cells": [
  {
   "cell_type": "code",
   "execution_count": 1,
   "id": "4d94e6e1",
   "metadata": {
    "_cell_guid": "b1076dfc-b9ad-4769-8c92-a6c4dae69d19",
    "_uuid": "8f2839f25d086af736a60e9eeb907d3b93b6e0e5",
    "execution": {
     "iopub.execute_input": "2023-12-20T11:21:12.417616Z",
     "iopub.status.busy": "2023-12-20T11:21:12.417179Z",
     "iopub.status.idle": "2023-12-20T11:21:12.852712Z",
     "shell.execute_reply": "2023-12-20T11:21:12.851391Z"
    },
    "papermill": {
     "duration": 0.449711,
     "end_time": "2023-12-20T11:21:12.855830",
     "exception": false,
     "start_time": "2023-12-20T11:21:12.406119",
     "status": "completed"
    },
    "tags": []
   },
   "outputs": [
    {
     "name": "stdout",
     "output_type": "stream",
     "text": [
      "/kaggle/input/summer-products-sales-performance/Computed insight - Success of active sellers.csv\n",
      "/kaggle/input/summer-products-sales-performance/summer-products-with-rating-and-performance_2020-08.csv\n",
      "/kaggle/input/summer-products-sales-performance/unique-categories.sorted-by-count.csv\n",
      "/kaggle/input/summer-products-sales-performance/unique-categories.csv\n"
     ]
    }
   ],
   "source": [
    "# This Python 3 environment comes with many helpful analytics libraries installed\n",
    "# It is defined by the kaggle/python Docker image: https://github.com/kaggle/docker-python\n",
    "# For example, here's several helpful packages to load\n",
    "\n",
    "import numpy as np # linear algebra\n",
    "import pandas as pd # data processing, CSV file I/O (e.g. pd.read_csv)\n",
    "\n",
    "# Input data files are available in the read-only \"../input/\" directory\n",
    "# For example, running this (by clicking run or pressing Shift+Enter) will list all files under the input directory\n",
    "\n",
    "import os\n",
    "for dirname, _, filenames in os.walk('/kaggle/input'):\n",
    "    for filename in filenames:\n",
    "        print(os.path.join(dirname, filename))\n",
    "\n",
    "# You can write up to 20GB to the current directory (/kaggle/working/) that gets preserved as output when you create a version using \"Save & Run All\" \n",
    "# You can also write temporary files to /kaggle/temp/, but they won't be saved outside of the current session"
   ]
  },
  {
   "cell_type": "code",
   "execution_count": 2,
   "id": "21e52de5",
   "metadata": {
    "execution": {
     "iopub.execute_input": "2023-12-20T11:21:12.875985Z",
     "iopub.status.busy": "2023-12-20T11:21:12.875456Z",
     "iopub.status.idle": "2023-12-20T11:21:12.993528Z",
     "shell.execute_reply": "2023-12-20T11:21:12.992378Z"
    },
    "papermill": {
     "duration": 0.131498,
     "end_time": "2023-12-20T11:21:12.996289",
     "exception": false,
     "start_time": "2023-12-20T11:21:12.864791",
     "status": "completed"
    },
    "tags": []
   },
   "outputs": [
    {
     "name": "stdout",
     "output_type": "stream",
     "text": [
      "<class 'pandas.core.frame.DataFrame'>\n",
      "RangeIndex: 1573 entries, 0 to 1572\n",
      "Data columns (total 44 columns):\n",
      " #   Column                        Non-Null Count  Dtype  \n",
      "---  ------                        --------------  -----  \n",
      " 0   index                         1573 non-null   int64  \n",
      " 1   title                         1573 non-null   object \n",
      " 2   title_orig                    1573 non-null   object \n",
      " 3   price                         1573 non-null   float64\n",
      " 4   retail_price                  1573 non-null   int64  \n",
      " 5   currency_buyer                1573 non-null   object \n",
      " 6   units_sold                    1573 non-null   int64  \n",
      " 7   uses_ad_boosts                1573 non-null   int64  \n",
      " 8   rating                        1573 non-null   float64\n",
      " 9   rating_count                  1573 non-null   int64  \n",
      " 10  rating_five_count             1528 non-null   float64\n",
      " 11  rating_four_count             1528 non-null   float64\n",
      " 12  rating_three_count            1528 non-null   float64\n",
      " 13  rating_two_count              1528 non-null   float64\n",
      " 14  rating_one_count              1528 non-null   float64\n",
      " 15  badges_count                  1573 non-null   int64  \n",
      " 16  badge_local_product           1573 non-null   int64  \n",
      " 17  badge_product_quality         1573 non-null   int64  \n",
      " 18  badge_fast_shipping           1573 non-null   int64  \n",
      " 19  tags                          1573 non-null   object \n",
      " 20  product_color                 1532 non-null   object \n",
      " 21  product_variation_size_id     1559 non-null   object \n",
      " 22  product_variation_inventory   1573 non-null   int64  \n",
      " 23  shipping_option_name          1573 non-null   object \n",
      " 24  shipping_option_price         1573 non-null   int64  \n",
      " 25  shipping_is_express           1573 non-null   int64  \n",
      " 26  countries_shipped_to          1573 non-null   int64  \n",
      " 27  inventory_total               1573 non-null   int64  \n",
      " 28  has_urgency_banner            473 non-null    float64\n",
      " 29  urgency_text                  473 non-null    object \n",
      " 30  origin_country                1556 non-null   object \n",
      " 31  merchant_title                1573 non-null   object \n",
      " 32  merchant_name                 1569 non-null   object \n",
      " 33  merchant_info_subtitle        1572 non-null   object \n",
      " 34  merchant_rating_count         1573 non-null   int64  \n",
      " 35  merchant_rating               1573 non-null   float64\n",
      " 36  merchant_id                   1573 non-null   object \n",
      " 37  merchant_has_profile_picture  1573 non-null   int64  \n",
      " 38  merchant_profile_picture      226 non-null    object \n",
      " 39  product_url                   1573 non-null   object \n",
      " 40  product_picture               1573 non-null   object \n",
      " 41  product_id                    1573 non-null   object \n",
      " 42  theme                         1573 non-null   object \n",
      " 43  crawl_month                   1573 non-null   object \n",
      "dtypes: float64(9), int64(16), object(19)\n",
      "memory usage: 540.8+ KB\n"
     ]
    }
   ],
   "source": [
    "# Importing and inspecting dataset quality.\n",
    "summer_products = pd.read_csv('/kaggle/input/summer-products-sales-performance/summer-products-with-rating-and-performance_2020-08.csv')\n",
    "summer_products.info()"
   ]
  },
  {
   "cell_type": "markdown",
   "id": "806d2727",
   "metadata": {
    "papermill": {
     "duration": 0.008568,
     "end_time": "2023-12-20T11:21:13.013812",
     "exception": false,
     "start_time": "2023-12-20T11:21:13.005244",
     "status": "completed"
    },
    "tags": []
   },
   "source": [
    "# **Cleaning the Dataset**"
   ]
  },
  {
   "cell_type": "code",
   "execution_count": 3,
   "id": "969322b8",
   "metadata": {
    "execution": {
     "iopub.execute_input": "2023-12-20T11:21:13.034079Z",
     "iopub.status.busy": "2023-12-20T11:21:13.033388Z",
     "iopub.status.idle": "2023-12-20T11:21:13.057070Z",
     "shell.execute_reply": "2023-12-20T11:21:13.055413Z"
    },
    "papermill": {
     "duration": 0.037536,
     "end_time": "2023-12-20T11:21:13.060387",
     "exception": false,
     "start_time": "2023-12-20T11:21:13.022851",
     "status": "completed"
    },
    "tags": []
   },
   "outputs": [
    {
     "name": "stdout",
     "output_type": "stream",
     "text": [
      "<class 'pandas.core.frame.DataFrame'>\n",
      "RangeIndex: 1573 entries, 0 to 1572\n",
      "Data columns (total 24 columns):\n",
      " #   Column                 Non-Null Count  Dtype  \n",
      "---  ------                 --------------  -----  \n",
      " 0   index                  1573 non-null   int64  \n",
      " 1   title                  1573 non-null   object \n",
      " 2   price                  1573 non-null   float64\n",
      " 3   retail_price           1573 non-null   int64  \n",
      " 4   currency_buyer         1573 non-null   object \n",
      " 5   units_sold             1573 non-null   int64  \n",
      " 6   uses_ad_boosts         1573 non-null   int64  \n",
      " 7   rating                 1573 non-null   float64\n",
      " 8   rating_count           1573 non-null   int64  \n",
      " 9   rating_five_count      1528 non-null   float64\n",
      " 10  rating_four_count      1528 non-null   float64\n",
      " 11  rating_three_count     1528 non-null   float64\n",
      " 12  rating_two_count       1528 non-null   float64\n",
      " 13  rating_one_count       1528 non-null   float64\n",
      " 14  tags                   1573 non-null   object \n",
      " 15  product_color          1532 non-null   object \n",
      " 16  countries_shipped_to   1573 non-null   int64  \n",
      " 17  inventory_total        1573 non-null   int64  \n",
      " 18  origin_country         1556 non-null   object \n",
      " 19  merchant_name          1569 non-null   object \n",
      " 20  merchant_rating_count  1573 non-null   int64  \n",
      " 21  merchant_rating        1573 non-null   float64\n",
      " 22  merchant_id            1573 non-null   object \n",
      " 23  product_id             1573 non-null   object \n",
      "dtypes: float64(8), int64(8), object(8)\n",
      "memory usage: 295.1+ KB\n"
     ]
    }
   ],
   "source": [
    "# Drop unneeded columns.\n",
    "summer_products = summer_products.drop(['crawl_month', 'product_picture', 'product_url', 'merchant_profile_picture', 'merchant_has_profile_picture', 'merchant_info_subtitle',\n",
    "                                       'urgency_text', 'has_urgency_banner', 'merchant_title', 'theme', 'has_urgency_banner', 'shipping_is_express', 'shipping_option_price',\n",
    "                                       'shipping_option_name', 'product_variation_inventory', 'product_variation_size_id', 'badges_count', 'badge_product_quality', 'badge_fast_shipping', 'badge_local_product', 'title_orig'], axis = 1)\n",
    "summer_products.info()"
   ]
  },
  {
   "cell_type": "code",
   "execution_count": 4,
   "id": "7ed200a6",
   "metadata": {
    "execution": {
     "iopub.execute_input": "2023-12-20T11:21:13.081655Z",
     "iopub.status.busy": "2023-12-20T11:21:13.080579Z",
     "iopub.status.idle": "2023-12-20T11:21:13.104228Z",
     "shell.execute_reply": "2023-12-20T11:21:13.102994Z"
    },
    "papermill": {
     "duration": 0.037265,
     "end_time": "2023-12-20T11:21:13.106921",
     "exception": false,
     "start_time": "2023-12-20T11:21:13.069656",
     "status": "completed"
    },
    "tags": []
   },
   "outputs": [
    {
     "name": "stdout",
     "output_type": "stream",
     "text": [
      "<class 'pandas.core.frame.DataFrame'>\n",
      "RangeIndex: 1573 entries, 0 to 1572\n",
      "Data columns (total 24 columns):\n",
      " #   Column                 Non-Null Count  Dtype  \n",
      "---  ------                 --------------  -----  \n",
      " 0   index                  1573 non-null   int64  \n",
      " 1   title                  1573 non-null   object \n",
      " 2   price                  1573 non-null   float64\n",
      " 3   retail_price           1573 non-null   int64  \n",
      " 4   currency_buyer         1573 non-null   object \n",
      " 5   units_sold             1573 non-null   int64  \n",
      " 6   uses_ad_boosts         1573 non-null   int64  \n",
      " 7   rating                 1573 non-null   float64\n",
      " 8   rating_count           1573 non-null   int64  \n",
      " 9   rating_five_count      1573 non-null   float64\n",
      " 10  rating_four_count      1573 non-null   float64\n",
      " 11  rating_three_count     1573 non-null   float64\n",
      " 12  rating_two_count       1573 non-null   float64\n",
      " 13  rating_one_count       1573 non-null   float64\n",
      " 14  tags                   1573 non-null   object \n",
      " 15  product_color          1573 non-null   object \n",
      " 16  countries_shipped_to   1573 non-null   int64  \n",
      " 17  inventory_total        1573 non-null   int64  \n",
      " 18  origin_country         1573 non-null   object \n",
      " 19  merchant_name          1569 non-null   object \n",
      " 20  merchant_rating_count  1573 non-null   int64  \n",
      " 21  merchant_rating        1573 non-null   float64\n",
      " 22  merchant_id            1573 non-null   object \n",
      " 23  product_id             1573 non-null   object \n",
      "dtypes: float64(8), int64(8), object(8)\n",
      "memory usage: 295.1+ KB\n"
     ]
    }
   ],
   "source": [
    "# Replacing NAs for ratings with 0\n",
    "summer_products['rating_one_count'] = summer_products['rating_one_count'].fillna(0)\n",
    "summer_products['rating_two_count'] = summer_products['rating_two_count'].fillna(0)\n",
    "summer_products['rating_three_count'] = summer_products['rating_three_count'].fillna(0)\n",
    "summer_products['rating_four_count'] = summer_products['rating_four_count'].fillna(0)\n",
    "summer_products['rating_five_count'] = summer_products['rating_five_count'].fillna(0)\n",
    "\n",
    "# Replacing NAs with Unknown for other columns\n",
    "summer_products['product_color'] = summer_products['product_color'].fillna('unknown')\n",
    "summer_products['origin_country'] = summer_products['origin_country'].fillna('unknown')\n",
    "summer_products['origin_country'] = summer_products['origin_country'].fillna('unknown')\n",
    "summer_products.info()"
   ]
  },
  {
   "cell_type": "code",
   "execution_count": 5,
   "id": "601f24ff",
   "metadata": {
    "execution": {
     "iopub.execute_input": "2023-12-20T11:21:13.127336Z",
     "iopub.status.busy": "2023-12-20T11:21:13.126897Z",
     "iopub.status.idle": "2023-12-20T11:21:13.138744Z",
     "shell.execute_reply": "2023-12-20T11:21:13.137514Z"
    },
    "papermill": {
     "duration": 0.025584,
     "end_time": "2023-12-20T11:21:13.141734",
     "exception": false,
     "start_time": "2023-12-20T11:21:13.116150",
     "status": "completed"
    },
    "tags": []
   },
   "outputs": [
    {
     "name": "stdout",
     "output_type": "stream",
     "text": [
      "     merchant_name               merchant_id\n",
      "408            NaN  5aab3c8ea6bf7a704caec65c\n",
      "505            NaN  5aab3c8ea6bf7a704caec65c\n",
      "1103           NaN  5aab3c8ea6bf7a704caec65c\n",
      "1350           NaN  5aab3c8ea6bf7a704caec65c\n"
     ]
    }
   ],
   "source": [
    "# Ensuring all the unknown merchant_names belong to a single merchant_id\n",
    "merchant_chk = summer_products.loc[summer_products['merchant_name'].isna()]\n",
    "print(merchant_chk[['merchant_name', 'merchant_id']])"
   ]
  },
  {
   "cell_type": "code",
   "execution_count": 6,
   "id": "1aedc21f",
   "metadata": {
    "execution": {
     "iopub.execute_input": "2023-12-20T11:21:13.163097Z",
     "iopub.status.busy": "2023-12-20T11:21:13.161785Z",
     "iopub.status.idle": "2023-12-20T11:21:13.180984Z",
     "shell.execute_reply": "2023-12-20T11:21:13.179864Z"
    },
    "papermill": {
     "duration": 0.032442,
     "end_time": "2023-12-20T11:21:13.183728",
     "exception": false,
     "start_time": "2023-12-20T11:21:13.151286",
     "status": "completed"
    },
    "tags": []
   },
   "outputs": [
    {
     "name": "stdout",
     "output_type": "stream",
     "text": [
      "<class 'pandas.core.frame.DataFrame'>\n",
      "RangeIndex: 1573 entries, 0 to 1572\n",
      "Data columns (total 24 columns):\n",
      " #   Column                 Non-Null Count  Dtype  \n",
      "---  ------                 --------------  -----  \n",
      " 0   index                  1573 non-null   int64  \n",
      " 1   title                  1573 non-null   object \n",
      " 2   price                  1573 non-null   float64\n",
      " 3   retail_price           1573 non-null   int64  \n",
      " 4   currency_buyer         1573 non-null   object \n",
      " 5   units_sold             1573 non-null   int64  \n",
      " 6   uses_ad_boosts         1573 non-null   int64  \n",
      " 7   rating                 1573 non-null   float64\n",
      " 8   rating_count           1573 non-null   int64  \n",
      " 9   rating_five_count      1573 non-null   float64\n",
      " 10  rating_four_count      1573 non-null   float64\n",
      " 11  rating_three_count     1573 non-null   float64\n",
      " 12  rating_two_count       1573 non-null   float64\n",
      " 13  rating_one_count       1573 non-null   float64\n",
      " 14  tags                   1573 non-null   object \n",
      " 15  product_color          1573 non-null   object \n",
      " 16  countries_shipped_to   1573 non-null   int64  \n",
      " 17  inventory_total        1573 non-null   int64  \n",
      " 18  origin_country         1573 non-null   object \n",
      " 19  merchant_name          1573 non-null   object \n",
      " 20  merchant_rating_count  1573 non-null   int64  \n",
      " 21  merchant_rating        1573 non-null   float64\n",
      " 22  merchant_id            1573 non-null   object \n",
      " 23  product_id             1573 non-null   object \n",
      "dtypes: float64(8), int64(8), object(8)\n",
      "memory usage: 295.1+ KB\n"
     ]
    }
   ],
   "source": [
    "# Replacing merchant_name with unknown\n",
    "summer_products['merchant_name'] = summer_products['merchant_name'].fillna('unknown')\n",
    "summer_products.info()"
   ]
  },
  {
   "cell_type": "code",
   "execution_count": 7,
   "id": "5d515f83",
   "metadata": {
    "execution": {
     "iopub.execute_input": "2023-12-20T11:21:13.204535Z",
     "iopub.status.busy": "2023-12-20T11:21:13.204121Z",
     "iopub.status.idle": "2023-12-20T11:21:13.269866Z",
     "shell.execute_reply": "2023-12-20T11:21:13.268713Z"
    },
    "papermill": {
     "duration": 0.0795,
     "end_time": "2023-12-20T11:21:13.272663",
     "exception": false,
     "start_time": "2023-12-20T11:21:13.193163",
     "status": "completed"
    },
    "tags": []
   },
   "outputs": [
    {
     "data": {
      "text/html": [
       "<div>\n",
       "<style scoped>\n",
       "    .dataframe tbody tr th:only-of-type {\n",
       "        vertical-align: middle;\n",
       "    }\n",
       "\n",
       "    .dataframe tbody tr th {\n",
       "        vertical-align: top;\n",
       "    }\n",
       "\n",
       "    .dataframe thead th {\n",
       "        text-align: right;\n",
       "    }\n",
       "</style>\n",
       "<table border=\"1\" class=\"dataframe\">\n",
       "  <thead>\n",
       "    <tr style=\"text-align: right;\">\n",
       "      <th></th>\n",
       "      <th>index</th>\n",
       "      <th>price</th>\n",
       "      <th>retail_price</th>\n",
       "      <th>units_sold</th>\n",
       "      <th>uses_ad_boosts</th>\n",
       "      <th>rating</th>\n",
       "      <th>rating_count</th>\n",
       "      <th>rating_five_count</th>\n",
       "      <th>rating_four_count</th>\n",
       "      <th>rating_three_count</th>\n",
       "      <th>rating_two_count</th>\n",
       "      <th>rating_one_count</th>\n",
       "      <th>countries_shipped_to</th>\n",
       "      <th>inventory_total</th>\n",
       "      <th>merchant_rating_count</th>\n",
       "      <th>merchant_rating</th>\n",
       "    </tr>\n",
       "  </thead>\n",
       "  <tbody>\n",
       "    <tr>\n",
       "      <th>count</th>\n",
       "      <td>1573.000000</td>\n",
       "      <td>1573.000000</td>\n",
       "      <td>1573.000000</td>\n",
       "      <td>1573.000000</td>\n",
       "      <td>1573.000000</td>\n",
       "      <td>1573.000000</td>\n",
       "      <td>1573.000000</td>\n",
       "      <td>1573.000000</td>\n",
       "      <td>1573.000000</td>\n",
       "      <td>1573.000000</td>\n",
       "      <td>1573.000000</td>\n",
       "      <td>1573.000000</td>\n",
       "      <td>1573.000000</td>\n",
       "      <td>1573.000000</td>\n",
       "      <td>1.573000e+03</td>\n",
       "      <td>1573.000000</td>\n",
       "    </tr>\n",
       "    <tr>\n",
       "      <th>mean</th>\n",
       "      <td>786.000000</td>\n",
       "      <td>8.325372</td>\n",
       "      <td>23.288620</td>\n",
       "      <td>4339.005086</td>\n",
       "      <td>0.432931</td>\n",
       "      <td>3.820896</td>\n",
       "      <td>889.659250</td>\n",
       "      <td>429.611570</td>\n",
       "      <td>174.461538</td>\n",
       "      <td>130.700572</td>\n",
       "      <td>61.888748</td>\n",
       "      <td>92.996821</td>\n",
       "      <td>40.456453</td>\n",
       "      <td>49.821360</td>\n",
       "      <td>2.649583e+04</td>\n",
       "      <td>4.032345</td>\n",
       "    </tr>\n",
       "    <tr>\n",
       "      <th>std</th>\n",
       "      <td>454.230301</td>\n",
       "      <td>3.932030</td>\n",
       "      <td>30.357863</td>\n",
       "      <td>9356.539302</td>\n",
       "      <td>0.495639</td>\n",
       "      <td>0.515374</td>\n",
       "      <td>1983.928834</td>\n",
       "      <td>968.882684</td>\n",
       "      <td>395.876511</td>\n",
       "      <td>308.015310</td>\n",
       "      <td>149.539900</td>\n",
       "      <td>211.592341</td>\n",
       "      <td>20.301203</td>\n",
       "      <td>2.562799</td>\n",
       "      <td>7.847446e+04</td>\n",
       "      <td>0.204768</td>\n",
       "    </tr>\n",
       "    <tr>\n",
       "      <th>min</th>\n",
       "      <td>0.000000</td>\n",
       "      <td>1.000000</td>\n",
       "      <td>1.000000</td>\n",
       "      <td>1.000000</td>\n",
       "      <td>0.000000</td>\n",
       "      <td>1.000000</td>\n",
       "      <td>0.000000</td>\n",
       "      <td>0.000000</td>\n",
       "      <td>0.000000</td>\n",
       "      <td>0.000000</td>\n",
       "      <td>0.000000</td>\n",
       "      <td>0.000000</td>\n",
       "      <td>6.000000</td>\n",
       "      <td>1.000000</td>\n",
       "      <td>0.000000e+00</td>\n",
       "      <td>2.333333</td>\n",
       "    </tr>\n",
       "    <tr>\n",
       "      <th>25%</th>\n",
       "      <td>393.000000</td>\n",
       "      <td>5.810000</td>\n",
       "      <td>7.000000</td>\n",
       "      <td>100.000000</td>\n",
       "      <td>0.000000</td>\n",
       "      <td>3.550000</td>\n",
       "      <td>24.000000</td>\n",
       "      <td>10.000000</td>\n",
       "      <td>4.000000</td>\n",
       "      <td>3.000000</td>\n",
       "      <td>1.000000</td>\n",
       "      <td>3.000000</td>\n",
       "      <td>31.000000</td>\n",
       "      <td>50.000000</td>\n",
       "      <td>1.987000e+03</td>\n",
       "      <td>3.917353</td>\n",
       "    </tr>\n",
       "    <tr>\n",
       "      <th>50%</th>\n",
       "      <td>786.000000</td>\n",
       "      <td>8.000000</td>\n",
       "      <td>10.000000</td>\n",
       "      <td>1000.000000</td>\n",
       "      <td>0.000000</td>\n",
       "      <td>3.850000</td>\n",
       "      <td>150.000000</td>\n",
       "      <td>72.000000</td>\n",
       "      <td>29.000000</td>\n",
       "      <td>22.000000</td>\n",
       "      <td>10.000000</td>\n",
       "      <td>18.000000</td>\n",
       "      <td>40.000000</td>\n",
       "      <td>50.000000</td>\n",
       "      <td>7.936000e+03</td>\n",
       "      <td>4.040650</td>\n",
       "    </tr>\n",
       "    <tr>\n",
       "      <th>75%</th>\n",
       "      <td>1179.000000</td>\n",
       "      <td>11.000000</td>\n",
       "      <td>26.000000</td>\n",
       "      <td>5000.000000</td>\n",
       "      <td>1.000000</td>\n",
       "      <td>4.110000</td>\n",
       "      <td>855.000000</td>\n",
       "      <td>394.000000</td>\n",
       "      <td>163.000000</td>\n",
       "      <td>121.000000</td>\n",
       "      <td>59.000000</td>\n",
       "      <td>90.000000</td>\n",
       "      <td>43.000000</td>\n",
       "      <td>50.000000</td>\n",
       "      <td>2.456400e+04</td>\n",
       "      <td>4.161797</td>\n",
       "    </tr>\n",
       "    <tr>\n",
       "      <th>max</th>\n",
       "      <td>1572.000000</td>\n",
       "      <td>49.000000</td>\n",
       "      <td>252.000000</td>\n",
       "      <td>100000.000000</td>\n",
       "      <td>1.000000</td>\n",
       "      <td>5.000000</td>\n",
       "      <td>20744.000000</td>\n",
       "      <td>11548.000000</td>\n",
       "      <td>4152.000000</td>\n",
       "      <td>3658.000000</td>\n",
       "      <td>2003.000000</td>\n",
       "      <td>2789.000000</td>\n",
       "      <td>140.000000</td>\n",
       "      <td>50.000000</td>\n",
       "      <td>2.174765e+06</td>\n",
       "      <td>5.000000</td>\n",
       "    </tr>\n",
       "  </tbody>\n",
       "</table>\n",
       "</div>"
      ],
      "text/plain": [
       "             index        price  retail_price     units_sold  uses_ad_boosts  \\\n",
       "count  1573.000000  1573.000000   1573.000000    1573.000000     1573.000000   \n",
       "mean    786.000000     8.325372     23.288620    4339.005086        0.432931   \n",
       "std     454.230301     3.932030     30.357863    9356.539302        0.495639   \n",
       "min       0.000000     1.000000      1.000000       1.000000        0.000000   \n",
       "25%     393.000000     5.810000      7.000000     100.000000        0.000000   \n",
       "50%     786.000000     8.000000     10.000000    1000.000000        0.000000   \n",
       "75%    1179.000000    11.000000     26.000000    5000.000000        1.000000   \n",
       "max    1572.000000    49.000000    252.000000  100000.000000        1.000000   \n",
       "\n",
       "            rating  rating_count  rating_five_count  rating_four_count  \\\n",
       "count  1573.000000   1573.000000        1573.000000        1573.000000   \n",
       "mean      3.820896    889.659250         429.611570         174.461538   \n",
       "std       0.515374   1983.928834         968.882684         395.876511   \n",
       "min       1.000000      0.000000           0.000000           0.000000   \n",
       "25%       3.550000     24.000000          10.000000           4.000000   \n",
       "50%       3.850000    150.000000          72.000000          29.000000   \n",
       "75%       4.110000    855.000000         394.000000         163.000000   \n",
       "max       5.000000  20744.000000       11548.000000        4152.000000   \n",
       "\n",
       "       rating_three_count  rating_two_count  rating_one_count  \\\n",
       "count         1573.000000       1573.000000       1573.000000   \n",
       "mean           130.700572         61.888748         92.996821   \n",
       "std            308.015310        149.539900        211.592341   \n",
       "min              0.000000          0.000000          0.000000   \n",
       "25%              3.000000          1.000000          3.000000   \n",
       "50%             22.000000         10.000000         18.000000   \n",
       "75%            121.000000         59.000000         90.000000   \n",
       "max           3658.000000       2003.000000       2789.000000   \n",
       "\n",
       "       countries_shipped_to  inventory_total  merchant_rating_count  \\\n",
       "count           1573.000000      1573.000000           1.573000e+03   \n",
       "mean              40.456453        49.821360           2.649583e+04   \n",
       "std               20.301203         2.562799           7.847446e+04   \n",
       "min                6.000000         1.000000           0.000000e+00   \n",
       "25%               31.000000        50.000000           1.987000e+03   \n",
       "50%               40.000000        50.000000           7.936000e+03   \n",
       "75%               43.000000        50.000000           2.456400e+04   \n",
       "max              140.000000        50.000000           2.174765e+06   \n",
       "\n",
       "       merchant_rating  \n",
       "count      1573.000000  \n",
       "mean          4.032345  \n",
       "std           0.204768  \n",
       "min           2.333333  \n",
       "25%           3.917353  \n",
       "50%           4.040650  \n",
       "75%           4.161797  \n",
       "max           5.000000  "
      ]
     },
     "execution_count": 7,
     "metadata": {},
     "output_type": "execute_result"
    }
   ],
   "source": [
    "summer_products.describe()"
   ]
  },
  {
   "cell_type": "code",
   "execution_count": 8,
   "id": "abedc483",
   "metadata": {
    "execution": {
     "iopub.execute_input": "2023-12-20T11:21:13.294352Z",
     "iopub.status.busy": "2023-12-20T11:21:13.293452Z",
     "iopub.status.idle": "2023-12-20T11:21:13.319764Z",
     "shell.execute_reply": "2023-12-20T11:21:13.318784Z"
    },
    "papermill": {
     "duration": 0.039715,
     "end_time": "2023-12-20T11:21:13.322236",
     "exception": false,
     "start_time": "2023-12-20T11:21:13.282521",
     "status": "completed"
    },
    "tags": []
   },
   "outputs": [
    {
     "data": {
      "text/html": [
       "<div>\n",
       "<style scoped>\n",
       "    .dataframe tbody tr th:only-of-type {\n",
       "        vertical-align: middle;\n",
       "    }\n",
       "\n",
       "    .dataframe tbody tr th {\n",
       "        vertical-align: top;\n",
       "    }\n",
       "\n",
       "    .dataframe thead th {\n",
       "        text-align: right;\n",
       "    }\n",
       "</style>\n",
       "<table border=\"1\" class=\"dataframe\">\n",
       "  <thead>\n",
       "    <tr style=\"text-align: right;\">\n",
       "      <th></th>\n",
       "      <th>index</th>\n",
       "      <th>title</th>\n",
       "      <th>price</th>\n",
       "      <th>retail_price</th>\n",
       "      <th>currency_buyer</th>\n",
       "      <th>units_sold</th>\n",
       "      <th>uses_ad_boosts</th>\n",
       "      <th>rating</th>\n",
       "      <th>rating_count</th>\n",
       "      <th>rating_five_count</th>\n",
       "      <th>...</th>\n",
       "      <th>tags</th>\n",
       "      <th>product_color</th>\n",
       "      <th>countries_shipped_to</th>\n",
       "      <th>inventory_total</th>\n",
       "      <th>origin_country</th>\n",
       "      <th>merchant_name</th>\n",
       "      <th>merchant_rating_count</th>\n",
       "      <th>merchant_rating</th>\n",
       "      <th>merchant_id</th>\n",
       "      <th>product_id</th>\n",
       "    </tr>\n",
       "  </thead>\n",
       "  <tbody>\n",
       "    <tr>\n",
       "      <th>0</th>\n",
       "      <td>0</td>\n",
       "      <td>2020 Summer Vintage Flamingo Print  Pajamas Se...</td>\n",
       "      <td>16.00</td>\n",
       "      <td>14</td>\n",
       "      <td>EUR</td>\n",
       "      <td>100</td>\n",
       "      <td>0</td>\n",
       "      <td>3.76</td>\n",
       "      <td>54</td>\n",
       "      <td>26.0</td>\n",
       "      <td>...</td>\n",
       "      <td>Summer,Fashion,womenunderwearsuit,printedpajam...</td>\n",
       "      <td>white</td>\n",
       "      <td>34</td>\n",
       "      <td>50</td>\n",
       "      <td>CN</td>\n",
       "      <td>zgrdejia</td>\n",
       "      <td>568</td>\n",
       "      <td>4.128521</td>\n",
       "      <td>595097d6a26f6e070cb878d1</td>\n",
       "      <td>5e9ae51d43d6a96e303acdb0</td>\n",
       "    </tr>\n",
       "    <tr>\n",
       "      <th>1</th>\n",
       "      <td>1</td>\n",
       "      <td>SSHOUSE Summer Casual Sleeveless Soirée Party ...</td>\n",
       "      <td>8.00</td>\n",
       "      <td>22</td>\n",
       "      <td>EUR</td>\n",
       "      <td>20000</td>\n",
       "      <td>1</td>\n",
       "      <td>3.45</td>\n",
       "      <td>6135</td>\n",
       "      <td>2269.0</td>\n",
       "      <td>...</td>\n",
       "      <td>Mini,womens dresses,Summer,Patchwork,fashion d...</td>\n",
       "      <td>green</td>\n",
       "      <td>41</td>\n",
       "      <td>50</td>\n",
       "      <td>CN</td>\n",
       "      <td>sarahouse</td>\n",
       "      <td>17752</td>\n",
       "      <td>3.899673</td>\n",
       "      <td>56458aa03a698c35c9050988</td>\n",
       "      <td>58940d436a0d3d5da4e95a38</td>\n",
       "    </tr>\n",
       "    <tr>\n",
       "      <th>2</th>\n",
       "      <td>2</td>\n",
       "      <td>2020 Nouvelle Arrivée Femmes Printemps et Été ...</td>\n",
       "      <td>8.00</td>\n",
       "      <td>43</td>\n",
       "      <td>EUR</td>\n",
       "      <td>100</td>\n",
       "      <td>0</td>\n",
       "      <td>3.57</td>\n",
       "      <td>14</td>\n",
       "      <td>5.0</td>\n",
       "      <td>...</td>\n",
       "      <td>Summer,cardigan,women beachwear,chiffon,Sexy w...</td>\n",
       "      <td>leopardprint</td>\n",
       "      <td>36</td>\n",
       "      <td>50</td>\n",
       "      <td>CN</td>\n",
       "      <td>hxt520</td>\n",
       "      <td>295</td>\n",
       "      <td>3.989831</td>\n",
       "      <td>5d464a1ffdf7bc44ee933c65</td>\n",
       "      <td>5ea10e2c617580260d55310a</td>\n",
       "    </tr>\n",
       "    <tr>\n",
       "      <th>3</th>\n",
       "      <td>3</td>\n",
       "      <td>Hot Summer Cool T-shirt pour les femmes Mode T...</td>\n",
       "      <td>8.00</td>\n",
       "      <td>8</td>\n",
       "      <td>EUR</td>\n",
       "      <td>5000</td>\n",
       "      <td>1</td>\n",
       "      <td>4.03</td>\n",
       "      <td>579</td>\n",
       "      <td>295.0</td>\n",
       "      <td>...</td>\n",
       "      <td>Summer,Shorts,Cotton,Cotton T Shirt,Sleeve,pri...</td>\n",
       "      <td>black</td>\n",
       "      <td>41</td>\n",
       "      <td>50</td>\n",
       "      <td>CN</td>\n",
       "      <td>allenfan</td>\n",
       "      <td>23832</td>\n",
       "      <td>4.020435</td>\n",
       "      <td>58cfdefdacb37b556efdff7c</td>\n",
       "      <td>5cedf17ad1d44c52c59e4aca</td>\n",
       "    </tr>\n",
       "    <tr>\n",
       "      <th>4</th>\n",
       "      <td>4</td>\n",
       "      <td>Femmes Shorts d'été à lacets taille élastique ...</td>\n",
       "      <td>2.72</td>\n",
       "      <td>3</td>\n",
       "      <td>EUR</td>\n",
       "      <td>100</td>\n",
       "      <td>1</td>\n",
       "      <td>3.10</td>\n",
       "      <td>20</td>\n",
       "      <td>6.0</td>\n",
       "      <td>...</td>\n",
       "      <td>Summer,Plus Size,Lace,Casual pants,Bottom,pant...</td>\n",
       "      <td>yellow</td>\n",
       "      <td>35</td>\n",
       "      <td>50</td>\n",
       "      <td>CN</td>\n",
       "      <td>happyhorses</td>\n",
       "      <td>14482</td>\n",
       "      <td>4.001588</td>\n",
       "      <td>5ab3b592c3911a095ad5dadb</td>\n",
       "      <td>5ebf5819ebac372b070b0e70</td>\n",
       "    </tr>\n",
       "  </tbody>\n",
       "</table>\n",
       "<p>5 rows × 24 columns</p>\n",
       "</div>"
      ],
      "text/plain": [
       "   index                                              title  price  \\\n",
       "0      0  2020 Summer Vintage Flamingo Print  Pajamas Se...  16.00   \n",
       "1      1  SSHOUSE Summer Casual Sleeveless Soirée Party ...   8.00   \n",
       "2      2  2020 Nouvelle Arrivée Femmes Printemps et Été ...   8.00   \n",
       "3      3  Hot Summer Cool T-shirt pour les femmes Mode T...   8.00   \n",
       "4      4  Femmes Shorts d'été à lacets taille élastique ...   2.72   \n",
       "\n",
       "   retail_price currency_buyer  units_sold  uses_ad_boosts  rating  \\\n",
       "0            14            EUR         100               0    3.76   \n",
       "1            22            EUR       20000               1    3.45   \n",
       "2            43            EUR         100               0    3.57   \n",
       "3             8            EUR        5000               1    4.03   \n",
       "4             3            EUR         100               1    3.10   \n",
       "\n",
       "   rating_count  rating_five_count  ...  \\\n",
       "0            54               26.0  ...   \n",
       "1          6135             2269.0  ...   \n",
       "2            14                5.0  ...   \n",
       "3           579              295.0  ...   \n",
       "4            20                6.0  ...   \n",
       "\n",
       "                                                tags  product_color  \\\n",
       "0  Summer,Fashion,womenunderwearsuit,printedpajam...          white   \n",
       "1  Mini,womens dresses,Summer,Patchwork,fashion d...          green   \n",
       "2  Summer,cardigan,women beachwear,chiffon,Sexy w...   leopardprint   \n",
       "3  Summer,Shorts,Cotton,Cotton T Shirt,Sleeve,pri...          black   \n",
       "4  Summer,Plus Size,Lace,Casual pants,Bottom,pant...         yellow   \n",
       "\n",
       "   countries_shipped_to  inventory_total origin_country merchant_name  \\\n",
       "0                    34               50             CN      zgrdejia   \n",
       "1                    41               50             CN     sarahouse   \n",
       "2                    36               50             CN        hxt520   \n",
       "3                    41               50             CN      allenfan   \n",
       "4                    35               50             CN   happyhorses   \n",
       "\n",
       "   merchant_rating_count  merchant_rating               merchant_id  \\\n",
       "0                    568         4.128521  595097d6a26f6e070cb878d1   \n",
       "1                  17752         3.899673  56458aa03a698c35c9050988   \n",
       "2                    295         3.989831  5d464a1ffdf7bc44ee933c65   \n",
       "3                  23832         4.020435  58cfdefdacb37b556efdff7c   \n",
       "4                  14482         4.001588  5ab3b592c3911a095ad5dadb   \n",
       "\n",
       "                 product_id  \n",
       "0  5e9ae51d43d6a96e303acdb0  \n",
       "1  58940d436a0d3d5da4e95a38  \n",
       "2  5ea10e2c617580260d55310a  \n",
       "3  5cedf17ad1d44c52c59e4aca  \n",
       "4  5ebf5819ebac372b070b0e70  \n",
       "\n",
       "[5 rows x 24 columns]"
      ]
     },
     "execution_count": 8,
     "metadata": {},
     "output_type": "execute_result"
    }
   ],
   "source": [
    "summer_products.head()"
   ]
  },
  {
   "cell_type": "code",
   "execution_count": 9,
   "id": "d6d5fb1a",
   "metadata": {
    "execution": {
     "iopub.execute_input": "2023-12-20T11:21:13.347001Z",
     "iopub.status.busy": "2023-12-20T11:21:13.346095Z",
     "iopub.status.idle": "2023-12-20T11:21:13.410592Z",
     "shell.execute_reply": "2023-12-20T11:21:13.409377Z"
    },
    "papermill": {
     "duration": 0.080987,
     "end_time": "2023-12-20T11:21:13.413724",
     "exception": false,
     "start_time": "2023-12-20T11:21:13.332737",
     "status": "completed"
    },
    "tags": []
   },
   "outputs": [],
   "source": [
    "# If merchant_rating_count is zero then the merchant_rating should be 'unknown', same for rating_count\n",
    "summer_products['rating'] = summer_products.apply(lambda x : 0 if x['rating_count'] == 0 else x['rating'], axis = 1)\n",
    "summer_products['merchant_rating'] = summer_products.apply(lambda x : 0 if x['merchant_rating_count'] == 0 else x['merchant_rating'], axis = 1)"
   ]
  },
  {
   "cell_type": "markdown",
   "id": "5a9613f7",
   "metadata": {
    "papermill": {
     "duration": 0.010902,
     "end_time": "2023-12-20T11:21:13.436172",
     "exception": false,
     "start_time": "2023-12-20T11:21:13.425270",
     "status": "completed"
    },
    "tags": []
   },
   "source": [
    "# Points of interest:\n",
    "\n",
    "* Merchants charging the highest margins vs ratings.\n",
    "* Ad-boosts vs Products Sold.How does merchant_rating correlate with units_sold?\n",
    "* Merchant Rating vs Units Sold (sort by top merchants).\n",
    "* Product Rating vs Units Sold (sort by highest selling products)?\n",
    "* Avg margin vs rating.\n",
    "* Origin countries with product counts."
   ]
  },
  {
   "cell_type": "markdown",
   "id": "9a2f5730",
   "metadata": {
    "papermill": {
     "duration": 0.009967,
     "end_time": "2023-12-20T11:21:13.456619",
     "exception": false,
     "start_time": "2023-12-20T11:21:13.446652",
     "status": "completed"
    },
    "tags": []
   },
   "source": [
    "# Merchants charging the highest margins vs ratings."
   ]
  },
  {
   "cell_type": "code",
   "execution_count": 10,
   "id": "6adcf502",
   "metadata": {
    "execution": {
     "iopub.execute_input": "2023-12-20T11:21:13.479824Z",
     "iopub.status.busy": "2023-12-20T11:21:13.478962Z",
     "iopub.status.idle": "2023-12-20T11:21:13.519924Z",
     "shell.execute_reply": "2023-12-20T11:21:13.519086Z"
    },
    "papermill": {
     "duration": 0.054917,
     "end_time": "2023-12-20T11:21:13.522181",
     "exception": false,
     "start_time": "2023-12-20T11:21:13.467264",
     "status": "completed"
    },
    "tags": []
   },
   "outputs": [
    {
     "data": {
      "text/html": [
       "<div>\n",
       "<style scoped>\n",
       "    .dataframe tbody tr th:only-of-type {\n",
       "        vertical-align: middle;\n",
       "    }\n",
       "\n",
       "    .dataframe tbody tr th {\n",
       "        vertical-align: top;\n",
       "    }\n",
       "\n",
       "    .dataframe thead th {\n",
       "        text-align: right;\n",
       "    }\n",
       "</style>\n",
       "<table border=\"1\" class=\"dataframe\">\n",
       "  <thead>\n",
       "    <tr style=\"text-align: right;\">\n",
       "      <th></th>\n",
       "      <th>merchant_id</th>\n",
       "      <th>merchant_name</th>\n",
       "      <th>margin</th>\n",
       "      <th>merchant_rating</th>\n",
       "    </tr>\n",
       "  </thead>\n",
       "  <tbody>\n",
       "    <tr>\n",
       "      <th>0</th>\n",
       "      <td>5e71bc2ff2bef60050bd3a86</td>\n",
       "      <td>wanguanqiuxi</td>\n",
       "      <td>471.0</td>\n",
       "      <td>3.91</td>\n",
       "    </tr>\n",
       "    <tr>\n",
       "      <th>1</th>\n",
       "      <td>58131ddf6f55296033923a7c</td>\n",
       "      <td>vvfashion2016</td>\n",
       "      <td>319.0</td>\n",
       "      <td>4.20</td>\n",
       "    </tr>\n",
       "    <tr>\n",
       "      <th>2</th>\n",
       "      <td>53facca81c105e3d5866e212</td>\n",
       "      <td>gl</td>\n",
       "      <td>315.0</td>\n",
       "      <td>4.16</td>\n",
       "    </tr>\n",
       "    <tr>\n",
       "      <th>3</th>\n",
       "      <td>5b658cbebc3b221445ba1440</td>\n",
       "      <td>pumpkincarriages</td>\n",
       "      <td>304.0</td>\n",
       "      <td>4.08</td>\n",
       "    </tr>\n",
       "    <tr>\n",
       "      <th>4</th>\n",
       "      <td>539937d634067e06707b1a8e</td>\n",
       "      <td>hotdress</td>\n",
       "      <td>299.0</td>\n",
       "      <td>3.97</td>\n",
       "    </tr>\n",
       "    <tr>\n",
       "      <th>5</th>\n",
       "      <td>5440e3d7f8abc82cbd97b19c</td>\n",
       "      <td>aqlangweigarmentstradingcoltd</td>\n",
       "      <td>282.0</td>\n",
       "      <td>3.91</td>\n",
       "    </tr>\n",
       "    <tr>\n",
       "      <th>6</th>\n",
       "      <td>53aa664438d3046ee44a5024</td>\n",
       "      <td>guangzhouchanny</td>\n",
       "      <td>282.0</td>\n",
       "      <td>4.13</td>\n",
       "    </tr>\n",
       "    <tr>\n",
       "      <th>7</th>\n",
       "      <td>591c4e7f1a071f13df7a63ff</td>\n",
       "      <td>liwenjuanfashionstore</td>\n",
       "      <td>264.0</td>\n",
       "      <td>4.17</td>\n",
       "    </tr>\n",
       "    <tr>\n",
       "      <th>8</th>\n",
       "      <td>596b4085d4cc34162e778769</td>\n",
       "      <td>juxinchengxiu</td>\n",
       "      <td>262.0</td>\n",
       "      <td>4.05</td>\n",
       "    </tr>\n",
       "    <tr>\n",
       "      <th>9</th>\n",
       "      <td>53a2a09ad91139519161a267</td>\n",
       "      <td>guangzhouchannytradecoltd</td>\n",
       "      <td>261.0</td>\n",
       "      <td>4.26</td>\n",
       "    </tr>\n",
       "  </tbody>\n",
       "</table>\n",
       "</div>"
      ],
      "text/plain": [
       "                merchant_id                  merchant_name  margin  \\\n",
       "0  5e71bc2ff2bef60050bd3a86                   wanguanqiuxi   471.0   \n",
       "1  58131ddf6f55296033923a7c                  vvfashion2016   319.0   \n",
       "2  53facca81c105e3d5866e212                             gl   315.0   \n",
       "3  5b658cbebc3b221445ba1440               pumpkincarriages   304.0   \n",
       "4  539937d634067e06707b1a8e                       hotdress   299.0   \n",
       "5  5440e3d7f8abc82cbd97b19c  aqlangweigarmentstradingcoltd   282.0   \n",
       "6  53aa664438d3046ee44a5024                guangzhouchanny   282.0   \n",
       "7  591c4e7f1a071f13df7a63ff          liwenjuanfashionstore   264.0   \n",
       "8  596b4085d4cc34162e778769                  juxinchengxiu   262.0   \n",
       "9  53a2a09ad91139519161a267      guangzhouchannytradecoltd   261.0   \n",
       "\n",
       "   merchant_rating  \n",
       "0             3.91  \n",
       "1             4.20  \n",
       "2             4.16  \n",
       "3             4.08  \n",
       "4             3.97  \n",
       "5             3.91  \n",
       "6             4.13  \n",
       "7             4.17  \n",
       "8             4.05  \n",
       "9             4.26  "
      ]
     },
     "execution_count": 10,
     "metadata": {},
     "output_type": "execute_result"
    }
   ],
   "source": [
    "highest_margins = summer_products.copy()\n",
    "highest_margins['margin'] = summer_products['retail_price'] - summer_products['price']\n",
    "highest_margins = highest_margins.groupby('merchant_id').agg({'margin': 'sum', 'merchant_rating': 'mean'}).sort_values(by = 'margin', ascending = False).reset_index()\n",
    "highest_margins = highest_margins.merge(summer_products[['merchant_name', 'merchant_id']], how = 'inner', on = 'merchant_id').drop_duplicates().reset_index(drop = True).round(2)\n",
    "highest_margins = highest_margins.iloc[:,[0,3,1,2]]\n",
    "highest_margins.head(10)"
   ]
  },
  {
   "cell_type": "code",
   "execution_count": 11,
   "id": "46f6e7c2",
   "metadata": {
    "execution": {
     "iopub.execute_input": "2023-12-20T11:21:13.545570Z",
     "iopub.status.busy": "2023-12-20T11:21:13.544881Z",
     "iopub.status.idle": "2023-12-20T11:21:15.338155Z",
     "shell.execute_reply": "2023-12-20T11:21:15.337010Z"
    },
    "papermill": {
     "duration": 1.808087,
     "end_time": "2023-12-20T11:21:15.341000",
     "exception": false,
     "start_time": "2023-12-20T11:21:13.532913",
     "status": "completed"
    },
    "tags": []
   },
   "outputs": [
    {
     "data": {
      "image/png": "[encoded data removed]",
      "text/plain": [
       "<Figure size 600x400 with 1 Axes>"
      ]
     },
     "metadata": {},
     "output_type": "display_data"
    }
   ],
   "source": [
    "import matplotlib.pyplot as plt\n",
    "import seaborn as sns\n",
    "\n",
    "plt.figure(figsize=(6, 4))\n",
    "\n",
    "margin_vs_mer_rating = sns.scatterplot(data = highest_margins, x='merchant_rating', y='margin')\n",
    "margin_vs_mer_rating.set_title('Merchant Rating vs Margin')\n",
    "\n",
    "plt.show()"
   ]
  },
  {
   "cell_type": "markdown",
   "id": "a654b10c",
   "metadata": {
    "papermill": {
     "duration": 0.011425,
     "end_time": "2023-12-20T11:21:15.364949",
     "exception": false,
     "start_time": "2023-12-20T11:21:15.353524",
     "status": "completed"
    },
    "tags": []
   },
   "source": [
    "# Ad-boosts vs Products Sold"
   ]
  },
  {
   "cell_type": "code",
   "execution_count": 12,
   "id": "32574dd8",
   "metadata": {
    "execution": {
     "iopub.execute_input": "2023-12-20T11:21:15.390263Z",
     "iopub.status.busy": "2023-12-20T11:21:15.389788Z",
     "iopub.status.idle": "2023-12-20T11:21:15.401604Z",
     "shell.execute_reply": "2023-12-20T11:21:15.400278Z"
    },
    "papermill": {
     "duration": 0.028244,
     "end_time": "2023-12-20T11:21:15.404969",
     "exception": false,
     "start_time": "2023-12-20T11:21:15.376725",
     "status": "completed"
    },
    "tags": []
   },
   "outputs": [
    {
     "name": "stdout",
     "output_type": "stream",
     "text": [
      "The products sold without using ad-boosts was  40.51% higher than the products sold using ad-boosts\n"
     ]
    }
   ],
   "source": [
    "used_adb = summer_products.loc[summer_products['uses_ad_boosts'] == 1]['units_sold'].sum()\n",
    "notused_adb = summer_products.loc[summer_products['uses_ad_boosts'] == 0]['units_sold'].sum()\n",
    "difference = notused_adb - used_adb\n",
    "print(f\"The products sold without using ad-boosts was {(difference/used_adb)*100 : .2f}% higher than the products sold using ad-boosts\")"
   ]
  },
  {
   "cell_type": "markdown",
   "id": "ea93db25",
   "metadata": {
    "papermill": {
     "duration": 0.011421,
     "end_time": "2023-12-20T11:21:15.427805",
     "exception": false,
     "start_time": "2023-12-20T11:21:15.416384",
     "status": "completed"
    },
    "tags": []
   },
   "source": [
    "# Merchant Rating vs Units Sold (sort by top merchants)."
   ]
  },
  {
   "cell_type": "code",
   "execution_count": 13,
   "id": "fc4fa098",
   "metadata": {
    "execution": {
     "iopub.execute_input": "2023-12-20T11:21:15.452488Z",
     "iopub.status.busy": "2023-12-20T11:21:15.451821Z",
     "iopub.status.idle": "2023-12-20T11:21:15.480491Z",
     "shell.execute_reply": "2023-12-20T11:21:15.479398Z"
    },
    "papermill": {
     "duration": 0.043992,
     "end_time": "2023-12-20T11:21:15.483124",
     "exception": false,
     "start_time": "2023-12-20T11:21:15.439132",
     "status": "completed"
    },
    "tags": []
   },
   "outputs": [
    {
     "data": {
      "text/html": [
       "<div>\n",
       "<style scoped>\n",
       "    .dataframe tbody tr th:only-of-type {\n",
       "        vertical-align: middle;\n",
       "    }\n",
       "\n",
       "    .dataframe tbody tr th {\n",
       "        vertical-align: top;\n",
       "    }\n",
       "\n",
       "    .dataframe thead th {\n",
       "        text-align: right;\n",
       "    }\n",
       "</style>\n",
       "<table border=\"1\" class=\"dataframe\">\n",
       "  <thead>\n",
       "    <tr style=\"text-align: right;\">\n",
       "      <th></th>\n",
       "      <th>merchant_id</th>\n",
       "      <th>merchant_name</th>\n",
       "      <th>units_sold</th>\n",
       "      <th>merchant_rating</th>\n",
       "    </tr>\n",
       "  </thead>\n",
       "  <tbody>\n",
       "    <tr>\n",
       "      <th>0</th>\n",
       "      <td>5357bcf2bb72c5504882e889</td>\n",
       "      <td>primesalecolimited</td>\n",
       "      <td>120000</td>\n",
       "      <td>4.22</td>\n",
       "    </tr>\n",
       "    <tr>\n",
       "      <th>1</th>\n",
       "      <td>5708773c3c02161b3f8c7900</td>\n",
       "      <td>leiston</td>\n",
       "      <td>107100</td>\n",
       "      <td>3.93</td>\n",
       "    </tr>\n",
       "    <tr>\n",
       "      <th>2</th>\n",
       "      <td>5417aada4ad3ab27e954b76c</td>\n",
       "      <td>shenzhenlongdragontechnologycoltd</td>\n",
       "      <td>100007</td>\n",
       "      <td>4.05</td>\n",
       "    </tr>\n",
       "    <tr>\n",
       "      <th>3</th>\n",
       "      <td>53f2beb39020ee03566d6e18</td>\n",
       "      <td>shanghailalanginternationaltradecoltd</td>\n",
       "      <td>100000</td>\n",
       "      <td>4.07</td>\n",
       "    </tr>\n",
       "    <tr>\n",
       "      <th>4</th>\n",
       "      <td>53082ea15aefb07dfe1f2a4f</td>\n",
       "      <td>bigcompany</td>\n",
       "      <td>100000</td>\n",
       "      <td>4.04</td>\n",
       "    </tr>\n",
       "    <tr>\n",
       "      <th>5</th>\n",
       "      <td>570f3a713a698c14278bb51e</td>\n",
       "      <td>fashionstore0408</td>\n",
       "      <td>100000</td>\n",
       "      <td>3.89</td>\n",
       "    </tr>\n",
       "    <tr>\n",
       "      <th>6</th>\n",
       "      <td>5926c5ace8ff5525241b368d</td>\n",
       "      <td>pentiumhorse</td>\n",
       "      <td>96000</td>\n",
       "      <td>4.14</td>\n",
       "    </tr>\n",
       "    <tr>\n",
       "      <th>7</th>\n",
       "      <td>5860c757b1e41d4d67d183e8</td>\n",
       "      <td>mermaidskiss</td>\n",
       "      <td>90100</td>\n",
       "      <td>4.05</td>\n",
       "    </tr>\n",
       "    <tr>\n",
       "      <th>8</th>\n",
       "      <td>52bd3ddb34067e4620a4c62d</td>\n",
       "      <td>fashionshow</td>\n",
       "      <td>80000</td>\n",
       "      <td>4.10</td>\n",
       "    </tr>\n",
       "    <tr>\n",
       "      <th>9</th>\n",
       "      <td>5a7b23a69bda4e3d375e7b3f</td>\n",
       "      <td>f40051ab1zhong9</td>\n",
       "      <td>80000</td>\n",
       "      <td>3.97</td>\n",
       "    </tr>\n",
       "  </tbody>\n",
       "</table>\n",
       "</div>"
      ],
      "text/plain": [
       "                merchant_id                          merchant_name  \\\n",
       "0  5357bcf2bb72c5504882e889                     primesalecolimited   \n",
       "1  5708773c3c02161b3f8c7900                                leiston   \n",
       "2  5417aada4ad3ab27e954b76c      shenzhenlongdragontechnologycoltd   \n",
       "3  53f2beb39020ee03566d6e18  shanghailalanginternationaltradecoltd   \n",
       "4  53082ea15aefb07dfe1f2a4f                             bigcompany   \n",
       "5  570f3a713a698c14278bb51e                       fashionstore0408   \n",
       "6  5926c5ace8ff5525241b368d                           pentiumhorse   \n",
       "7  5860c757b1e41d4d67d183e8                           mermaidskiss   \n",
       "8  52bd3ddb34067e4620a4c62d                            fashionshow   \n",
       "9  5a7b23a69bda4e3d375e7b3f                        f40051ab1zhong9   \n",
       "\n",
       "   units_sold  merchant_rating  \n",
       "0      120000             4.22  \n",
       "1      107100             3.93  \n",
       "2      100007             4.05  \n",
       "3      100000             4.07  \n",
       "4      100000             4.04  \n",
       "5      100000             3.89  \n",
       "6       96000             4.14  \n",
       "7       90100             4.05  \n",
       "8       80000             4.10  \n",
       "9       80000             3.97  "
      ]
     },
     "execution_count": 13,
     "metadata": {},
     "output_type": "execute_result"
    }
   ],
   "source": [
    "units_sold_mer = summer_products.groupby('merchant_id').agg({'units_sold': 'sum', 'merchant_rating': 'mean'}).sort_values(by = 'units_sold', ascending = False).reset_index()\n",
    "units_sold_mer = units_sold_mer.merge(summer_products[['merchant_name', 'merchant_id']], how = 'inner', on = 'merchant_id').drop_duplicates().reset_index(drop = True).round(2)\n",
    "units_sold_mer = units_sold_mer.iloc[:,[0,3,1,2]]\n",
    "units_sold_mer.head(10)"
   ]
  },
  {
   "cell_type": "code",
   "execution_count": 14,
   "id": "2263d8d8",
   "metadata": {
    "execution": {
     "iopub.execute_input": "2023-12-20T11:21:15.508514Z",
     "iopub.status.busy": "2023-12-20T11:21:15.508087Z",
     "iopub.status.idle": "2023-12-20T11:21:15.756088Z",
     "shell.execute_reply": "2023-12-20T11:21:15.754843Z"
    },
    "papermill": {
     "duration": 0.263679,
     "end_time": "2023-12-20T11:21:15.758485",
     "exception": false,
     "start_time": "2023-12-20T11:21:15.494806",
     "status": "completed"
    },
    "tags": []
   },
   "outputs": [
    {
     "data": {
      "image/png": "[encoded data removed]",
      "text/plain": [
       "<Figure size 600x400 with 1 Axes>"
      ]
     },
     "metadata": {},
     "output_type": "display_data"
    }
   ],
   "source": [
    "plt.figure(figsize = (6,4))\n",
    "mer_sell_vs_rating = sns.scatterplot(data = units_sold_mer, x = 'merchant_rating', y = 'units_sold')\n",
    "mer_sell_vs_rating.set_title('Units Sold vs Merchant Rating')\n",
    "plt.show()"
   ]
  },
  {
   "cell_type": "markdown",
   "id": "0b490a77",
   "metadata": {
    "papermill": {
     "duration": 0.01188,
     "end_time": "2023-12-20T11:21:15.782559",
     "exception": false,
     "start_time": "2023-12-20T11:21:15.770679",
     "status": "completed"
    },
    "tags": []
   },
   "source": [
    "# Product Rating vs Units Sold (sort by highest selling products)?"
   ]
  },
  {
   "cell_type": "code",
   "execution_count": 15,
   "id": "f8f1408e",
   "metadata": {
    "execution": {
     "iopub.execute_input": "2023-12-20T11:21:15.808726Z",
     "iopub.status.busy": "2023-12-20T11:21:15.808324Z",
     "iopub.status.idle": "2023-12-20T11:21:15.839613Z",
     "shell.execute_reply": "2023-12-20T11:21:15.838341Z"
    },
    "papermill": {
     "duration": 0.047468,
     "end_time": "2023-12-20T11:21:15.842114",
     "exception": false,
     "start_time": "2023-12-20T11:21:15.794646",
     "status": "completed"
    },
    "tags": []
   },
   "outputs": [
    {
     "data": {
      "text/html": [
       "<div>\n",
       "<style scoped>\n",
       "    .dataframe tbody tr th:only-of-type {\n",
       "        vertical-align: middle;\n",
       "    }\n",
       "\n",
       "    .dataframe tbody tr th {\n",
       "        vertical-align: top;\n",
       "    }\n",
       "\n",
       "    .dataframe thead th {\n",
       "        text-align: right;\n",
       "    }\n",
       "</style>\n",
       "<table border=\"1\" class=\"dataframe\">\n",
       "  <thead>\n",
       "    <tr style=\"text-align: right;\">\n",
       "      <th></th>\n",
       "      <th>product_id</th>\n",
       "      <th>title</th>\n",
       "      <th>units_sold</th>\n",
       "      <th>rating</th>\n",
       "    </tr>\n",
       "  </thead>\n",
       "  <tbody>\n",
       "    <tr>\n",
       "      <th>0</th>\n",
       "      <td>567cb0925ff12c4829f07dfb</td>\n",
       "      <td>Femmes dentelle manches courtes hauts hauts ch...</td>\n",
       "      <td>100000</td>\n",
       "      <td>3.82</td>\n",
       "    </tr>\n",
       "    <tr>\n",
       "      <th>1</th>\n",
       "      <td>544b079d1280fa28eee9b380</td>\n",
       "      <td>Femmes Camisole extensible Spaghetti Strap Lon...</td>\n",
       "      <td>100000</td>\n",
       "      <td>4.10</td>\n",
       "    </tr>\n",
       "    <tr>\n",
       "      <th>2</th>\n",
       "      <td>5b07a7c6e997b33c6f9947da</td>\n",
       "      <td>2018 New Fashion Women's Tops Sexy Strappy Sle...</td>\n",
       "      <td>100000</td>\n",
       "      <td>3.83</td>\n",
       "    </tr>\n",
       "    <tr>\n",
       "      <th>3</th>\n",
       "      <td>54bdf18039b8c045f118936a</td>\n",
       "      <td>Nouveau Aeeival Femmes Vêtements À Manches Lon...</td>\n",
       "      <td>100000</td>\n",
       "      <td>3.76</td>\n",
       "    </tr>\n",
       "    <tr>\n",
       "      <th>4</th>\n",
       "      <td>571adeab62cce546f1a46bc0</td>\n",
       "      <td>Nouvelle arrivée femmes été sexy robe de soiré...</td>\n",
       "      <td>100000</td>\n",
       "      <td>3.53</td>\n",
       "    </tr>\n",
       "    <tr>\n",
       "      <th>5</th>\n",
       "      <td>53897eeeafddf70c91af1cda</td>\n",
       "      <td>T-shirt à manches courtes en mousseline de soi...</td>\n",
       "      <td>100000</td>\n",
       "      <td>3.98</td>\n",
       "    </tr>\n",
       "    <tr>\n",
       "      <th>6</th>\n",
       "      <td>5b17a4cff4979a14e3b4bf7f</td>\n",
       "      <td>Été Femmes Casual Sleeveless T-shirts sans man...</td>\n",
       "      <td>50000</td>\n",
       "      <td>4.12</td>\n",
       "    </tr>\n",
       "    <tr>\n",
       "      <th>7</th>\n",
       "      <td>58df3eb809730e54ddd932ca</td>\n",
       "      <td>Summer Women Sexy White Broderie Sexy White De...</td>\n",
       "      <td>50000</td>\n",
       "      <td>3.60</td>\n",
       "    </tr>\n",
       "    <tr>\n",
       "      <th>8</th>\n",
       "      <td>5953892749a5f7756941171f</td>\n",
       "      <td>Women's Fashion - Chemise sans manches à encol...</td>\n",
       "      <td>50000</td>\n",
       "      <td>4.00</td>\n",
       "    </tr>\n",
       "    <tr>\n",
       "      <th>9</th>\n",
       "      <td>56553387a03eee0826acb151</td>\n",
       "      <td>Sexy Thong Cheeky Bottom Femmes Beachwear Brés...</td>\n",
       "      <td>50000</td>\n",
       "      <td>3.45</td>\n",
       "    </tr>\n",
       "  </tbody>\n",
       "</table>\n",
       "</div>"
      ],
      "text/plain": [
       "                 product_id  \\\n",
       "0  567cb0925ff12c4829f07dfb   \n",
       "1  544b079d1280fa28eee9b380   \n",
       "2  5b07a7c6e997b33c6f9947da   \n",
       "3  54bdf18039b8c045f118936a   \n",
       "4  571adeab62cce546f1a46bc0   \n",
       "5  53897eeeafddf70c91af1cda   \n",
       "6  5b17a4cff4979a14e3b4bf7f   \n",
       "7  58df3eb809730e54ddd932ca   \n",
       "8  5953892749a5f7756941171f   \n",
       "9  56553387a03eee0826acb151   \n",
       "\n",
       "                                               title  units_sold  rating  \n",
       "0  Femmes dentelle manches courtes hauts hauts ch...      100000    3.82  \n",
       "1  Femmes Camisole extensible Spaghetti Strap Lon...      100000    4.10  \n",
       "2  2018 New Fashion Women's Tops Sexy Strappy Sle...      100000    3.83  \n",
       "3  Nouveau Aeeival Femmes Vêtements À Manches Lon...      100000    3.76  \n",
       "4  Nouvelle arrivée femmes été sexy robe de soiré...      100000    3.53  \n",
       "5  T-shirt à manches courtes en mousseline de soi...      100000    3.98  \n",
       "6  Été Femmes Casual Sleeveless T-shirts sans man...       50000    4.12  \n",
       "7  Summer Women Sexy White Broderie Sexy White De...       50000    3.60  \n",
       "8  Women's Fashion - Chemise sans manches à encol...       50000    4.00  \n",
       "9  Sexy Thong Cheeky Bottom Femmes Beachwear Brés...       50000    3.45  "
      ]
     },
     "execution_count": 15,
     "metadata": {},
     "output_type": "execute_result"
    }
   ],
   "source": [
    "units_sold_prod = summer_products.groupby('product_id').agg({'units_sold': 'sum', 'rating': 'mean'}).sort_values(by = 'units_sold', ascending = False).reset_index()\n",
    "units_sold_prod = units_sold_prod.merge(summer_products[['title', 'product_id']], how = 'inner', on = 'product_id').drop_duplicates().reset_index(drop = True).round(2)\n",
    "units_sold_prod = units_sold_prod.iloc[:,[0,3,1,2]]\n",
    "units_sold_prod.head(10)"
   ]
  },
  {
   "cell_type": "code",
   "execution_count": 16,
   "id": "0e93e47c",
   "metadata": {
    "execution": {
     "iopub.execute_input": "2023-12-20T11:21:15.869740Z",
     "iopub.status.busy": "2023-12-20T11:21:15.868771Z",
     "iopub.status.idle": "2023-12-20T11:21:16.119645Z",
     "shell.execute_reply": "2023-12-20T11:21:16.118307Z"
    },
    "papermill": {
     "duration": 0.267472,
     "end_time": "2023-12-20T11:21:16.122228",
     "exception": false,
     "start_time": "2023-12-20T11:21:15.854756",
     "status": "completed"
    },
    "tags": []
   },
   "outputs": [
    {
     "data": {
      "image/png": "[encoded data removed]",
      "text/plain": [
       "<Figure size 600x400 with 1 Axes>"
      ]
     },
     "metadata": {},
     "output_type": "display_data"
    }
   ],
   "source": [
    "plt.figure(figsize = (6,4))\n",
    "prod_sell_vs_rating = sns.scatterplot(data = units_sold_prod, x = 'rating', y = 'units_sold')\n",
    "prod_sell_vs_rating.set_title('Units Sold vs Product Rating')\n",
    "plt.show()"
   ]
  },
  {
   "cell_type": "markdown",
   "id": "0f42357c",
   "metadata": {
    "papermill": {
     "duration": 0.013052,
     "end_time": "2023-12-20T11:21:16.148615",
     "exception": false,
     "start_time": "2023-12-20T11:21:16.135563",
     "status": "completed"
    },
    "tags": []
   },
   "source": [
    "# Avg margin vs rating."
   ]
  },
  {
   "cell_type": "code",
   "execution_count": 17,
   "id": "979d88f6",
   "metadata": {
    "execution": {
     "iopub.execute_input": "2023-12-20T11:21:16.177462Z",
     "iopub.status.busy": "2023-12-20T11:21:16.176803Z",
     "iopub.status.idle": "2023-12-20T11:21:16.193774Z",
     "shell.execute_reply": "2023-12-20T11:21:16.192639Z"
    },
    "papermill": {
     "duration": 0.03445,
     "end_time": "2023-12-20T11:21:16.196419",
     "exception": false,
     "start_time": "2023-12-20T11:21:16.161969",
     "status": "completed"
    },
    "tags": []
   },
   "outputs": [
    {
     "data": {
      "text/html": [
       "<div>\n",
       "<style scoped>\n",
       "    .dataframe tbody tr th:only-of-type {\n",
       "        vertical-align: middle;\n",
       "    }\n",
       "\n",
       "    .dataframe tbody tr th {\n",
       "        vertical-align: top;\n",
       "    }\n",
       "\n",
       "    .dataframe thead th {\n",
       "        text-align: right;\n",
       "    }\n",
       "</style>\n",
       "<table border=\"1\" class=\"dataframe\">\n",
       "  <thead>\n",
       "    <tr style=\"text-align: right;\">\n",
       "      <th></th>\n",
       "      <th>int_rating</th>\n",
       "      <th>margin</th>\n",
       "    </tr>\n",
       "  </thead>\n",
       "  <tbody>\n",
       "    <tr>\n",
       "      <th>0</th>\n",
       "      <td>5</td>\n",
       "      <td>12.918182</td>\n",
       "    </tr>\n",
       "    <tr>\n",
       "      <th>1</th>\n",
       "      <td>4</td>\n",
       "      <td>15.355204</td>\n",
       "    </tr>\n",
       "    <tr>\n",
       "      <th>2</th>\n",
       "      <td>3</td>\n",
       "      <td>13.631323</td>\n",
       "    </tr>\n",
       "    <tr>\n",
       "      <th>3</th>\n",
       "      <td>2</td>\n",
       "      <td>20.899474</td>\n",
       "    </tr>\n",
       "    <tr>\n",
       "      <th>4</th>\n",
       "      <td>1</td>\n",
       "      <td>-0.333333</td>\n",
       "    </tr>\n",
       "  </tbody>\n",
       "</table>\n",
       "</div>"
      ],
      "text/plain": [
       "   int_rating     margin\n",
       "0           5  12.918182\n",
       "1           4  15.355204\n",
       "2           3  13.631323\n",
       "3           2  20.899474\n",
       "4           1  -0.333333"
      ]
     },
     "execution_count": 17,
     "metadata": {},
     "output_type": "execute_result"
    }
   ],
   "source": [
    "# Create a column to round the ratings to the nearest integer.\n",
    "margin_by_rating = summer_products.copy()\n",
    "margin_by_rating['int_rating'] = summer_products['rating'].round().astype(int)\n",
    "margin_by_rating['margin'] = margin_by_rating['retail_price'] - margin_by_rating['price']\n",
    "margin_by_rating = margin_by_rating.groupby('int_rating').agg({'margin': 'mean'}).sort_values(by = 'int_rating', ascending = False).reset_index()\n",
    "margin_by_rating.head()"
   ]
  },
  {
   "cell_type": "code",
   "execution_count": 18,
   "id": "5675797a",
   "metadata": {
    "execution": {
     "iopub.execute_input": "2023-12-20T11:21:16.225582Z",
     "iopub.status.busy": "2023-12-20T11:21:16.225128Z",
     "iopub.status.idle": "2023-12-20T11:21:16.443260Z",
     "shell.execute_reply": "2023-12-20T11:21:16.442050Z"
    },
    "papermill": {
     "duration": 0.235727,
     "end_time": "2023-12-20T11:21:16.446061",
     "exception": false,
     "start_time": "2023-12-20T11:21:16.210334",
     "status": "completed"
    },
    "tags": []
   },
   "outputs": [
    {
     "data": {
      "image/png": "[encoded data removed]",
      "text/plain": [
       "<Figure size 600x400 with 1 Axes>"
      ]
     },
     "metadata": {},
     "output_type": "display_data"
    }
   ],
   "source": [
    "plt.figure(figsize = (6,4))\n",
    "rating_vs_mar = sns.barplot(data = margin_by_rating, x = 'int_rating', y = 'margin')\n",
    "rating_vs_mar.set_title('Margin vs Rating')\n",
    "plt.show()"
   ]
  },
  {
   "cell_type": "markdown",
   "id": "0cd7bb27",
   "metadata": {
    "papermill": {
     "duration": 0.013474,
     "end_time": "2023-12-20T11:21:16.473429",
     "exception": false,
     "start_time": "2023-12-20T11:21:16.459955",
     "status": "completed"
    },
    "tags": []
   },
   "source": [
    "# Origin countries with product counts."
   ]
  },
  {
   "cell_type": "code",
   "execution_count": 19,
   "id": "dc35f3a0",
   "metadata": {
    "execution": {
     "iopub.execute_input": "2023-12-20T11:21:16.502876Z",
     "iopub.status.busy": "2023-12-20T11:21:16.502456Z",
     "iopub.status.idle": "2023-12-20T11:21:16.517071Z",
     "shell.execute_reply": "2023-12-20T11:21:16.515971Z"
    },
    "papermill": {
     "duration": 0.032389,
     "end_time": "2023-12-20T11:21:16.519499",
     "exception": false,
     "start_time": "2023-12-20T11:21:16.487110",
     "status": "completed"
    },
    "tags": []
   },
   "outputs": [
    {
     "data": {
      "text/html": [
       "<div>\n",
       "<style scoped>\n",
       "    .dataframe tbody tr th:only-of-type {\n",
       "        vertical-align: middle;\n",
       "    }\n",
       "\n",
       "    .dataframe tbody tr th {\n",
       "        vertical-align: top;\n",
       "    }\n",
       "\n",
       "    .dataframe thead th {\n",
       "        text-align: right;\n",
       "    }\n",
       "</style>\n",
       "<table border=\"1\" class=\"dataframe\">\n",
       "  <thead>\n",
       "    <tr style=\"text-align: right;\">\n",
       "      <th></th>\n",
       "      <th>origin_country</th>\n",
       "      <th>products_sold</th>\n",
       "    </tr>\n",
       "  </thead>\n",
       "  <tbody>\n",
       "    <tr>\n",
       "      <th>0</th>\n",
       "      <td>CN</td>\n",
       "      <td>1516</td>\n",
       "    </tr>\n",
       "    <tr>\n",
       "      <th>1</th>\n",
       "      <td>US</td>\n",
       "      <td>31</td>\n",
       "    </tr>\n",
       "    <tr>\n",
       "      <th>2</th>\n",
       "      <td>unknown</td>\n",
       "      <td>17</td>\n",
       "    </tr>\n",
       "    <tr>\n",
       "      <th>3</th>\n",
       "      <td>VE</td>\n",
       "      <td>5</td>\n",
       "    </tr>\n",
       "    <tr>\n",
       "      <th>4</th>\n",
       "      <td>SG</td>\n",
       "      <td>2</td>\n",
       "    </tr>\n",
       "    <tr>\n",
       "      <th>5</th>\n",
       "      <td>AT</td>\n",
       "      <td>1</td>\n",
       "    </tr>\n",
       "    <tr>\n",
       "      <th>6</th>\n",
       "      <td>GB</td>\n",
       "      <td>1</td>\n",
       "    </tr>\n",
       "  </tbody>\n",
       "</table>\n",
       "</div>"
      ],
      "text/plain": [
       "  origin_country  products_sold\n",
       "0             CN           1516\n",
       "1             US             31\n",
       "2        unknown             17\n",
       "3             VE              5\n",
       "4             SG              2\n",
       "5             AT              1\n",
       "6             GB              1"
      ]
     },
     "execution_count": 19,
     "metadata": {},
     "output_type": "execute_result"
    }
   ],
   "source": [
    "origin_cnt = summer_products.groupby('origin_country')['units_sold'].count().reset_index(name = 'products_sold').sort_values(by = 'products_sold', ascending = False).reset_index(drop = True)\n",
    "origin_cnt.head(10)"
   ]
  }
 ],
 "metadata": {
  "kaggle": {
   "accelerator": "none",
   "dataSources": [
    {
     "datasetId": 4109024,
     "sourceId": 7123404,
     "sourceType": "datasetVersion"
    }
   ],
   "dockerImageVersionId": 30626,
   "isGpuEnabled": false,
   "isInternetEnabled": true,
   "language": "python",
   "sourceType": "notebook"
  },
  "kernelspec": {
   "display_name": "Python 3",
   "language": "python",
   "name": "python3"
  },
  "language_info": {
   "codemirror_mode": {
    "name": "ipython",
    "version": 3
   },
   "file_extension": ".py",
   "mimetype": "text/x-python",
   "name": "python",
   "nbconvert_exporter": "python",
   "pygments_lexer": "ipython3",
   "version": "3.10.12"
  },
  "papermill": {
   "default_parameters": {},
   "duration": 8.225981,
   "end_time": "2023-12-20T11:21:17.155583",
   "environment_variables": {},
   "exception": null,
   "input_path": "__notebook__.ipynb",
   "output_path": "__notebook__.ipynb",
   "parameters": {},
   "start_time": "2023-12-20T11:21:08.929602",
   "version": "2.4.0"
  }
 },
 "nbformat": 4,
 "nbformat_minor": 5
}
